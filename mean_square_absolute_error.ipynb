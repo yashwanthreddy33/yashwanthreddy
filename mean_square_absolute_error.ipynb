{
  "nbformat": 4,
  "nbformat_minor": 0,
  "metadata": {
    "colab": {
      "provenance": []
    },
    "kernelspec": {
      "name": "python3",
      "display_name": "Python 3"
    },
    "language_info": {
      "name": "python"
    }
  },
  "cells": [
    {
      "cell_type": "code",
      "execution_count": null,
      "metadata": {
        "colab": {
          "base_uri": "https://localhost:8080/"
        },
        "id": "bHQBJtcN8lpp",
        "outputId": "95b3d93e-d2e3-472f-aaec-2451600c12ed"
      },
      "outputs": [
        {
          "output_type": "stream",
          "name": "stdout",
          "text": [
            "Absolute Value: 40\n",
            "Mean absolute error is: 10.0\n"
          ]
        }
      ],
      "source": [
        "#mean absolute value\n",
        "import pandas as pd\n",
        "x=[2,7,8,9]\n",
        "y=[13,15,19,17]\n",
        "w=4\n",
        "b=0\n",
        "sum = 0\n",
        "for i in range(len(x)):\n",
        "  y1 = (w*x[i] + b)\n",
        "  error = y[i] - y1\n",
        "  sum = sum + error\n",
        "absolute = abs(sum)\n",
        "print(\"Absolute Value:\",absolute)\n",
        "mean  = absolute/len(x)\n",
        "print(\"Mean absolute error is:\",mean)\n",
        "\n"
      ]
    },
    {
      "cell_type": "code",
      "source": [
        "#mean square error\n",
        "import pandas as pd\n",
        "x=[2,7,8,9]\n",
        "y=[13,15,19,17]\n",
        "w=4\n",
        "b=0\n",
        "sum = 0\n",
        "for i in range(len(x)):\n",
        "  y1 = (w*x[i] + b)\n",
        "  error = y[i] - y1\n",
        "  error1 = error**2\n",
        "  sum = sum + error1\n",
        "print(\"Total sum:\",sum)\n",
        "mean  = sum/len(x)\n",
        "print(\"Mean square error is:\",mean)"
      ],
      "metadata": {
        "colab": {
          "base_uri": "https://localhost:8080/"
        },
        "id": "ysjw88J4-JnG",
        "outputId": "b08bb92e-390f-44ea-87e8-2005b18399f1"
      },
      "execution_count": null,
      "outputs": [
        {
          "output_type": "stream",
          "name": "stdout",
          "text": [
            "Total sum: 724\n",
            "Mean square error is: 181.0\n"
          ]
        }
      ]
    },
    {
      "cell_type": "code",
      "source": [
        "import pandas as pd\n",
        "x=[0,1,2,3]\n",
        "y=[0,2,4,6]\n",
        "w=0.5\n",
        "b=0\n",
        "sum = 0\n",
        "for i in range(len(x)):\n",
        "  y1 = (w*x[i] + b)\n",
        "  error = y[i] - y1\n",
        "  sum = sum + error\n",
        "absolute = abs(sum)\n",
        "print(\"Absolute Value:\",absolute)\n",
        "mean  = absolute/len(x)\n",
        "print(\"Mean absolute error is:\",mean)"
      ],
      "metadata": {
        "colab": {
          "base_uri": "https://localhost:8080/"
        },
        "id": "jS3nHdDjBoZ1",
        "outputId": "79a1d122-4d54-4208-968b-816151194799"
      },
      "execution_count": null,
      "outputs": [
        {
          "output_type": "stream",
          "name": "stdout",
          "text": [
            "Absolute Value: 9.0\n",
            "Mean absolute error is: 2.25\n"
          ]
        }
      ]
    },
    {
      "cell_type": "code",
      "source": [],
      "metadata": {
        "id": "wS6zoQKuCqv3"
      },
      "execution_count": null,
      "outputs": []
    }
  ]
}